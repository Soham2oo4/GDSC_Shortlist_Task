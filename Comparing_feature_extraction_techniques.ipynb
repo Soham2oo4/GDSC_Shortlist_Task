{
 "cells": [
  {
   "cell_type": "code",
   "execution_count": 3,
   "id": "8867b09f-bd05-424d-9ee9-2876f5f05e63",
   "metadata": {},
   "outputs": [],
   "source": [
    "#importing Libraries\n",
    "import re\n",
    "import numpy as np\n",
    "import pandas as pd\n",
    "from collections import Counter\n",
    "import warnings\n",
    "\n",
    "import seaborn as sns\n",
    "import matplotlib.pyplot as plt\n",
    "\n",
    "import nltk\n",
    "from bs4 import BeautifulSoup\n",
    "\n",
    "from sklearn.manifold import TSNE\n",
    "from sklearn.metrics import accuracy_score, f1_score\n",
    "from sklearn.linear_model import LogisticRegression\n",
    "from sklearn.preprocessing import LabelBinarizer\n",
    "from sklearn.model_selection import train_test_split\n",
    "from sklearn.feature_extraction.text import CountVectorizer, TfidfVectorizer\n",
    "\n",
    "stopwords = nltk.corpus.stopwords.words(\"english\")\n",
    "warnings.filterwarnings(\"ignore\")"
   ]
  },
  {
   "cell_type": "code",
   "execution_count": 22,
   "id": "8a173d69-5b40-48e1-a448-67ccb82881d4",
   "metadata": {},
   "outputs": [
    {
     "data": {
      "text/html": [
       "<div>\n",
       "<style scoped>\n",
       "    .dataframe tbody tr th:only-of-type {\n",
       "        vertical-align: middle;\n",
       "    }\n",
       "\n",
       "    .dataframe tbody tr th {\n",
       "        vertical-align: top;\n",
       "    }\n",
       "\n",
       "    .dataframe thead th {\n",
       "        text-align: right;\n",
       "    }\n",
       "</style>\n",
       "<table border=\"1\" class=\"dataframe\">\n",
       "  <thead>\n",
       "    <tr style=\"text-align: right;\">\n",
       "      <th></th>\n",
       "      <th>review</th>\n",
       "      <th>sentiment</th>\n",
       "    </tr>\n",
       "  </thead>\n",
       "  <tbody>\n",
       "    <tr>\n",
       "      <th>0</th>\n",
       "      <td>One of the other reviewers has mentioned that ...</td>\n",
       "      <td>positive</td>\n",
       "    </tr>\n",
       "    <tr>\n",
       "      <th>1</th>\n",
       "      <td>A wonderful little production. &lt;br /&gt;&lt;br /&gt;The...</td>\n",
       "      <td>positive</td>\n",
       "    </tr>\n",
       "    <tr>\n",
       "      <th>2</th>\n",
       "      <td>I thought this was a wonderful way to spend ti...</td>\n",
       "      <td>positive</td>\n",
       "    </tr>\n",
       "    <tr>\n",
       "      <th>3</th>\n",
       "      <td>Basically there's a family where a little boy ...</td>\n",
       "      <td>negative</td>\n",
       "    </tr>\n",
       "    <tr>\n",
       "      <th>4</th>\n",
       "      <td>Petter Mattei's \"Love in the Time of Money\" is...</td>\n",
       "      <td>positive</td>\n",
       "    </tr>\n",
       "  </tbody>\n",
       "</table>\n",
       "</div>"
      ],
      "text/plain": [
       "                                              review sentiment\n",
       "0  One of the other reviewers has mentioned that ...  positive\n",
       "1  A wonderful little production. <br /><br />The...  positive\n",
       "2  I thought this was a wonderful way to spend ti...  positive\n",
       "3  Basically there's a family where a little boy ...  negative\n",
       "4  Petter Mattei's \"Love in the Time of Money\" is...  positive"
      ]
     },
     "execution_count": 22,
     "metadata": {},
     "output_type": "execute_result"
    }
   ],
   "source": [
    "#Reading data of IMDb dataset\n",
    "df = pd.read_csv(r\"C:\\Users\\Swapnali\\Desktop\\Data_ML\\IMDB Dataset.csv\")\n",
    "#df = df.iloc[:10000, :]\n",
    "df.head()"
   ]
  },
  {
   "cell_type": "code",
   "execution_count": 23,
   "id": "94c24a7f-b83d-440e-a18d-5b4543e1b2ea",
   "metadata": {},
   "outputs": [],
   "source": [
    "#We remove the special characters, stopwords\n",
    "#BuildVocab class: This is a class designed to build a vocabulary from a given series of sentences (text data). \n",
    "#Here are the key methods and functionalities of this class:\n",
    "def remove_special_characters(text):\n",
    "\n",
    "    soup = BeautifulSoup(text, \"html.parser\")\n",
    "    text = soup.get_text()\n",
    "    text = re.sub('\\[[^]]*\\]', '', text)\n",
    "    text = re.sub('[^a-zA-z0-9\\s+\\,]','',text)\n",
    "    text = re.sub('\\.{2,}','',text)\n",
    "    return text\n",
    "\n",
    "def remove_stopwords(text):\n",
    "    \"\"\"Function to remove stopwords\"\"\"\n",
    "    text = text.lower()\n",
    "    words = text.split(\" \")\n",
    "    filtered_words = [i for i in words if i not in stopwords]\n",
    "    filtered_words = ' '.join(filtered_words)\n",
    "    return filtered_words\n",
    "\n",
    "class BuildVocab:\n",
    "    \"\"\"Class to build vocabulary for a given series of reviews and vocab size\"\"\"\n",
    "    def __init__(self, sentences: pd.Series, vocab_size:int, unk_token=False):\n",
    "        self.sentences = sentences\n",
    "        self.vocab_size = vocab_size\n",
    "        self.oov_token = unk_token\n",
    "    \n",
    "    def __process_sentences(self, sentence:str):\n",
    "        sentence = re.sub(r'[^a-zA-Z\\s+]', '', sentence).strip()\n",
    "        return sentence\n",
    "    \n",
    "    def __sentence2words(self, sentence: str):\n",
    "        word_list = list()\n",
    "        for word in sentence.split(\" \"):\n",
    "            if len(word) >= 1:\n",
    "                word_list.append(word)\n",
    "            else:\n",
    "                pass\n",
    "        return list(word_list)\n",
    "    \n",
    "    def __get_word_dictionary(self, sentences:list):\n",
    "        words = list()\n",
    "        for sentence in sentences:\n",
    "            word_list = self.__sentence2words(sentence=sentence)\n",
    "            words.extend(word_list)\n",
    "        return list(words)\n",
    "    \n",
    "    def __get_topn_words(self, word_dictionary:dict):\n",
    "        sorted_items = sorted(word_dictionary.items(), key=lambda item: item[1], reverse=True)\n",
    "        top_n_words = [word for word, _ in sorted_items[:self.vocab_size]]\n",
    "        return top_n_words\n",
    "\n",
    "\n",
    "    def build(self):\n",
    "        sentences = self.sentences.apply(self.__process_sentences)\n",
    "        words = self.__get_word_dictionary(sentences=sentences.values)\n",
    "        word_count_dict = Counter(words)\n",
    "        vocab = self.__get_topn_words(word_dictionary=word_count_dict)\n",
    "        \n",
    "        if self.oov_token:\n",
    "            vocab.append(\"UNK\")\n",
    "        else:\n",
    "            pass\n",
    "\n",
    "        index_dict = {x: index for x, index in zip(vocab, range(len(vocab)))}\n",
    "\n",
    "        return vocab, index_dict\n"
   ]
  },
  {
   "cell_type": "code",
   "execution_count": 24,
   "id": "c02e8e33-75da-4a5e-97cd-da16ab99be77",
   "metadata": {},
   "outputs": [
    {
     "name": "stdout",
     "output_type": "stream",
     "text": [
      "Number of reviews : 50000\n"
     ]
    },
    {
     "data": {
      "text/plain": [
       "<Axes: xlabel='sentiment', ylabel='count'>"
      ]
     },
     "execution_count": 24,
     "metadata": {},
     "output_type": "execute_result"
    },
    {
     "data": {
      "image/png": "[encoded data removed]",
      "text/plain": [
       "<Figure size 640x480 with 1 Axes>"
      ]
     },
     "metadata": {},
     "output_type": "display_data"
    }
   ],
   "source": [
    "#Counting the number of positive and negative reviews\n",
    "print(f\"Number of reviews : {len(df['review'].values)}\")\n",
    "sns.countplot(data=df, x=\"sentiment\")"
   ]
  },
  {
   "cell_type": "code",
   "execution_count": 25,
   "id": "21c0df47-7f50-492e-949c-c2bed9cfc3a2",
   "metadata": {},
   "outputs": [],
   "source": [
    "#removing stop words and cleaning data\n",
    "df['review'] = df['review'].apply(remove_special_characters)\n",
    "df['review'] = df['review'].apply(remove_stopwords)"
   ]
  },
  {
   "cell_type": "code",
   "execution_count": 26,
   "id": "7673effb-a5af-4c5a-8f27-77977170302a",
   "metadata": {},
   "outputs": [
    {
     "name": "stdout",
     "output_type": "stream",
     "text": [
      "(40000,) (40000,) (10000,) (10000,)\n"
     ]
    }
   ],
   "source": [
    "# Spliting the data into train and test sets\n",
    "train_x, test_x, train_y, test_y = train_test_split(df['review'].values, df['sentiment'].values, test_size=0.2, random_state=22)\n",
    "print(train_x.shape, train_y.shape, test_x.shape, test_y.shape )"
   ]
  },
  {
   "cell_type": "code",
   "execution_count": 27,
   "id": "7f31485e-a244-4899-8060-c715270970d7",
   "metadata": {},
   "outputs": [],
   "source": [
    "#Training by bag of words model\n",
    "bow = CountVectorizer(max_features=150)\n",
    "bow = bow.fit(train_x)"
   ]
  },
  {
   "cell_type": "code",
   "execution_count": 28,
   "id": "a259b15a-eb6a-4e4e-bfb9-f3b9c18bcafb",
   "metadata": {},
   "outputs": [],
   "source": [
    "#using N- gram model which N is 3 that is called a Trigram model\n",
    "N=3\n",
    "bng = CountVectorizer(ngram_range=(N, N))\n",
    "bng = bng.fit(train_x)"
   ]
  },
  {
   "cell_type": "code",
   "execution_count": 29,
   "id": "a17b94d5-18a8-4c93-a751-c06695ac34f4",
   "metadata": {},
   "outputs": [],
   "source": [
    "#using TfIDF feature\n",
    "tfidf = TfidfVectorizer(max_features=500)\n",
    "tfidf = tfidf.fit(train_x)"
   ]
  },
  {
   "cell_type": "code",
   "execution_count": 30,
   "id": "3a25bb32-fbfe-4250-bcf4-8193c67b03cf",
   "metadata": {},
   "outputs": [],
   "source": [
    "#transforming text data using different vectorization techniques \n",
    "bow_train_x, bow_test_x = bow.transform(train_x), bow.transform(test_x)\n",
    "bng_train_x, bng_test_x = bng.transform(train_x), bng.transform(test_x)\n",
    "tfidf_train_x, tfidf_test_x = tfidf.transform(train_x), tfidf.transform(test_x)"
   ]
  },
  {
   "cell_type": "code",
   "execution_count": 31,
   "id": "99918f5b-8f08-4a89-a4a6-7948d2e68b9e",
   "metadata": {},
   "outputs": [
    {
     "name": "stdout",
     "output_type": "stream",
     "text": [
      "(40000, 1) (10000, 1)\n"
     ]
    }
   ],
   "source": [
    "encoder = LabelBinarizer()\n",
    "encoder = encoder.fit(train_y)\n",
    "\n",
    "\n",
    "train_y, test_y = encoder.transform(train_y), encoder.transform(test_y)\n",
    "print(train_y.shape, test_y.shape)"
   ]
  },
  {
   "cell_type": "code",
   "execution_count": 32,
   "id": "9da398bf-8eef-43c9-a438-f49f193cc811",
   "metadata": {},
   "outputs": [],
   "source": [
    "#logistic regression models are being trained on three different sets of transformed text data, each using a different vectorization technique\n",
    "lr_bow = LogisticRegression(penalty=\"l2\", max_iter=500, C=1, random_state=42)\n",
    "lr_bow = lr_bow.fit(bow_train_x, train_y)\n",
    "\n",
    "lr_bng = LogisticRegression(penalty=\"l2\", max_iter=500, C=1, random_state=42)\n",
    "lr_bng = lr_bng.fit(bng_train_x, train_y)\n",
    "\n",
    "lr_tfidf = LogisticRegression(penalty=\"l2\", max_iter=500, C=1, random_state=42)\n",
    "lr_tfidf = lr_tfidf.fit(tfidf_train_x, train_y)"
   ]
  },
  {
   "cell_type": "code",
   "execution_count": 33,
   "id": "f7362ecc-d36f-4586-a32b-5000231eda0a",
   "metadata": {},
   "outputs": [],
   "source": [
    "bow_train_pred = lr_bow.predict(bow_train_x)\n",
    "bow_test_pred = lr_bow.predict(bow_test_x)\n",
    "\n",
    "train_acc_bow = accuracy_score(train_y, bow_train_pred)\n",
    "train_f1_bow = f1_score(train_y, bow_train_pred)\n",
    "\n",
    "test_acc_bow = accuracy_score(test_y, bow_test_pred)\n",
    "test_f1_bow = f1_score(test_y, bow_test_pred)\n",
    "\n",
    "\n",
    "bng_train_pred = lr_bng.predict(bng_train_x)\n",
    "bng_test_pred = lr_bng.predict(bng_test_x)\n",
    "\n",
    "train_acc_bng = accuracy_score(train_y, bng_train_pred)\n",
    "train_f1_bng = f1_score(train_y, bng_train_pred)\n",
    "\n",
    "test_acc_bng = accuracy_score(test_y, bng_test_pred)\n",
    "test_f1_bng = f1_score(test_y, bng_test_pred)\n",
    "\n",
    "tfidf_train_pred = lr_tfidf.predict(tfidf_train_x)\n",
    "tfidf_test_pred = lr_tfidf.predict(tfidf_test_x)\n",
    "\n",
    "train_acc_tfidf = accuracy_score(train_y, tfidf_train_pred)\n",
    "train_f1_tfidf = f1_score(train_y, tfidf_train_pred)\n",
    "\n",
    "test_acc_tfidf = accuracy_score(test_y, tfidf_test_pred)\n",
    "test_f1_tfidf = f1_score(test_y, tfidf_test_pred)"
   ]
  },
  {
   "cell_type": "code",
   "execution_count": 34,
   "id": "a72b7235-2488-4aae-b414-441c2c136da3",
   "metadata": {},
   "outputs": [
    {
     "data": {
      "text/html": [
       "<div>\n",
       "<style scoped>\n",
       "    .dataframe tbody tr th:only-of-type {\n",
       "        vertical-align: middle;\n",
       "    }\n",
       "\n",
       "    .dataframe tbody tr th {\n",
       "        vertical-align: top;\n",
       "    }\n",
       "\n",
       "    .dataframe thead th {\n",
       "        text-align: right;\n",
       "    }\n",
       "</style>\n",
       "<table border=\"1\" class=\"dataframe\">\n",
       "  <thead>\n",
       "    <tr style=\"text-align: right;\">\n",
       "      <th></th>\n",
       "      <th>test_acc</th>\n",
       "      <th>test_f1</th>\n",
       "    </tr>\n",
       "  </thead>\n",
       "  <tbody>\n",
       "    <tr>\n",
       "      <th>Bag of words</th>\n",
       "      <td>0.7667</td>\n",
       "      <td>0.772988</td>\n",
       "    </tr>\n",
       "    <tr>\n",
       "      <th>Bag of N-grams</th>\n",
       "      <td>0.7350</td>\n",
       "      <td>0.772415</td>\n",
       "    </tr>\n",
       "    <tr>\n",
       "      <th>TFIDF</th>\n",
       "      <td>0.8382</td>\n",
       "      <td>0.839420</td>\n",
       "    </tr>\n",
       "  </tbody>\n",
       "</table>\n",
       "</div>"
      ],
      "text/plain": [
       "                test_acc   test_f1\n",
       "Bag of words      0.7667  0.772988\n",
       "Bag of N-grams    0.7350  0.772415\n",
       "TFIDF             0.8382  0.839420"
      ]
     },
     "execution_count": 34,
     "metadata": {},
     "output_type": "execute_result"
    }
   ],
   "source": [
    "#Tabular form of the represented data, as we can clearly see, using the Tf-IDF feature has the highest accuracy, now we use the Tf-IDF method to train \n",
    "#train for other algorithms as well\n",
    "pd.DataFrame({ \n",
    "              \"test_acc\" : [test_acc_bow, test_acc_bng, test_acc_tfidf],\n",
    "              \"test_f1\" :  [test_f1_bow, test_f1_bng, test_f1_tfidf]},\n",
    "              index=['Bag of words', 'Bag of N-grams', 'TFIDF'])"
   ]
  },
  {
   "cell_type": "code",
   "execution_count": null,
   "id": "3765466c-e9af-4ec7-81f7-7c31d948268d",
   "metadata": {},
   "outputs": [],
   "source": []
  },
  {
   "cell_type": "code",
   "execution_count": null,
   "id": "337562c9-ea15-4926-b1fb-f653e711be0d",
   "metadata": {},
   "outputs": [],
   "source": []
  }
 ],
 "metadata": {
  "kernelspec": {
   "display_name": "Python 3 (ipykernel)",
   "language": "python",
   "name": "python3"
  },
  "language_info": {
   "codemirror_mode": {
    "name": "ipython",
    "version": 3
   },
   "file_extension": ".py",
   "mimetype": "text/x-python",
   "name": "python",
   "nbconvert_exporter": "python",
   "pygments_lexer": "ipython3",
   "version": "3.11.5"
  }
 },
 "nbformat": 4,
 "nbformat_minor": 5
}
